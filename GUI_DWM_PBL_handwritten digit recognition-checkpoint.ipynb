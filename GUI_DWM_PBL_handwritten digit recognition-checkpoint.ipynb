{
 "cells": [
  {
   "cell_type": "code",
   "execution_count": null,
   "id": "ec149ed1",
   "metadata": {},
   "outputs": [],
   "source": []
  },
  {
   "cell_type": "code",
   "execution_count": 22,
   "id": "17568616",
   "metadata": {},
   "outputs": [
    {
     "ename": "NameError",
     "evalue": "name 'customtkinter' is not defined",
     "output_type": "error",
     "traceback": [
      "\u001b[1;31m---------------------------------------------------------------------------\u001b[0m",
      "\u001b[1;31mNameError\u001b[0m                                 Traceback (most recent call last)",
      "Cell \u001b[1;32mIn[22], line 5\u001b[0m\n\u001b[0;32m      1\u001b[0m window \u001b[38;5;241m=\u001b[39m tk\u001b[38;5;241m.\u001b[39mTk()\u001b[38;5;66;03m#creating a window\u001b[39;00m\n\u001b[0;32m      2\u001b[0m window\u001b[38;5;241m.\u001b[39mtitle(\u001b[38;5;124m\"\u001b[39m\u001b[38;5;124mHandwritten Digit Recognition System\u001b[39m\u001b[38;5;124m\"\u001b[39m)\u001b[38;5;66;03m#title of window\u001b[39;00m\n\u001b[1;32m----> 5\u001b[0m customtkinter\u001b[38;5;241m.\u001b[39mset_appearance_mode(\u001b[38;5;124m\"\u001b[39m\u001b[38;5;124mDark\u001b[39m\u001b[38;5;124m\"\u001b[39m) \n\u001b[0;32m      6\u001b[0m customtkinter\u001b[38;5;241m.\u001b[39mset_default_color_theme(\u001b[38;5;124m\"\u001b[39m\u001b[38;5;124mdarkblue\u001b[39m\u001b[38;5;124m\"\u001b[39m)\n\u001b[0;32m      8\u001b[0m l1\u001b[38;5;241m=\u001b[39mtk\u001b[38;5;241m.\u001b[39mLabel(window,text\u001b[38;5;241m=\u001b[39m\u001b[38;5;124m\"\u001b[39m\u001b[38;5;124mDigit\u001b[39m\u001b[38;5;124m\"\u001b[39m,font\u001b[38;5;241m=\u001b[39m(\u001b[38;5;124m'\u001b[39m\u001b[38;5;124mPalatino Linotype\u001b[39m\u001b[38;5;124m'\u001b[39m,\u001b[38;5;241m20\u001b[39m))\n",
      "\u001b[1;31mNameError\u001b[0m: name 'customtkinter' is not defined"
     ]
    }
   ],
   "source": [
    "\n"
   ]
  },
  {
   "cell_type": "code",
   "execution_count": 24,
   "id": "580d4519",
   "metadata": {},
   "outputs": [
    {
     "name": "stdout",
     "output_type": "stream",
     "text": [
      "Collecting customtkinter\n",
      "  Downloading customtkinter-5.2.2-py3-none-any.whl (296 kB)\n",
      "                                              0.0/296.1 kB ? eta -:--:--\n",
      "     ----                                     30.7/296.1 kB ? eta -:--:--\n",
      "     ----                                     30.7/296.1 kB ? eta -:--:--\n",
      "     ----                                     30.7/296.1 kB ? eta -:--:--\n",
      "     -------                               61.4/296.1 kB 297.7 kB/s eta 0:00:01\n",
      "     -------------                        112.6/296.1 kB 544.7 kB/s eta 0:00:01\n",
      "     -------------                        112.6/296.1 kB 544.7 kB/s eta 0:00:01\n",
      "     -------------                        112.6/296.1 kB 544.7 kB/s eta 0:00:01\n",
      "     -------------------                  163.8/296.1 kB 426.7 kB/s eta 0:00:01\n",
      "     ------------------------             204.8/296.1 kB 518.8 kB/s eta 0:00:01\n",
      "     ------------------------             204.8/296.1 kB 518.8 kB/s eta 0:00:01\n",
      "     ------------------------             204.8/296.1 kB 518.8 kB/s eta 0:00:01\n",
      "     ---------------------------------    276.5/296.1 kB 486.7 kB/s eta 0:00:01\n",
      "     ------------------------------------ 296.1/296.1 kB 507.7 kB/s eta 0:00:00\n",
      "Collecting darkdetect (from customtkinter)\n",
      "  Downloading darkdetect-0.8.0-py3-none-any.whl (9.0 kB)\n",
      "Requirement already satisfied: packaging in c:\\users\\rajpu\\anaconda3\\lib\\site-packages (from customtkinter) (23.0)\n",
      "Installing collected packages: darkdetect, customtkinter\n",
      "Successfully installed customtkinter-5.2.2 darkdetect-0.8.0\n"
     ]
    }
   ],
   "source": [
    "!pip install customtkinter"
   ]
  },
  {
   "cell_type": "code",
   "execution_count": 25,
   "id": "c7439cc8",
   "metadata": {},
   "outputs": [],
   "source": [
    "import tkinter as tk\n",
    "from tkinter import *\n",
    "from tkinter import messagebox\n",
    "import customtkinter"
   ]
  },
  {
   "cell_type": "code",
   "execution_count": 29,
   "id": "debfc1d1",
   "metadata": {},
   "outputs": [
    {
     "ename": "TclError",
     "evalue": "can't invoke \"label\" command: application has been destroyed",
     "output_type": "error",
     "traceback": [
      "\u001b[1;31m---------------------------------------------------------------------------\u001b[0m",
      "\u001b[1;31mTclError\u001b[0m                                  Traceback (most recent call last)",
      "Cell \u001b[1;32mIn[29], line 12\u001b[0m\n\u001b[0;32m      8\u001b[0m root \u001b[38;5;241m=\u001b[39m customtkinter\u001b[38;5;241m.\u001b[39mCTk()\n\u001b[0;32m     10\u001b[0m root\u001b[38;5;241m.\u001b[39mmainloop()\n\u001b[1;32m---> 12\u001b[0m l1\u001b[38;5;241m=\u001b[39mtk\u001b[38;5;241m.\u001b[39mLabel(window,text\u001b[38;5;241m=\u001b[39m\u001b[38;5;124m\"\u001b[39m\u001b[38;5;124mDigit\u001b[39m\u001b[38;5;124m\"\u001b[39m,font\u001b[38;5;241m=\u001b[39m(\u001b[38;5;124m'\u001b[39m\u001b[38;5;124mPalatino Linotype\u001b[39m\u001b[38;5;124m'\u001b[39m,\u001b[38;5;241m20\u001b[39m))\n\u001b[0;32m     13\u001b[0m l1\u001b[38;5;241m.\u001b[39mplace(x\u001b[38;5;241m=\u001b[39m\u001b[38;5;241m10\u001b[39m,y\u001b[38;5;241m=\u001b[39m\u001b[38;5;241m0\u001b[39m)\n\u001b[0;32m     15\u001b[0m t1\u001b[38;5;241m=\u001b[39mtk\u001b[38;5;241m.\u001b[39mEntry(window,width\u001b[38;5;241m=\u001b[39m\u001b[38;5;241m20\u001b[39m, border \u001b[38;5;241m=\u001b[39m \u001b[38;5;241m5\u001b[39m)\n",
      "File \u001b[1;32m~\\anaconda3\\Lib\\tkinter\\__init__.py:3214\u001b[0m, in \u001b[0;36mLabel.__init__\u001b[1;34m(self, master, cnf, **kw)\u001b[0m\n\u001b[0;32m   3196\u001b[0m \u001b[38;5;28;01mdef\u001b[39;00m \u001b[38;5;21m__init__\u001b[39m(\u001b[38;5;28mself\u001b[39m, master\u001b[38;5;241m=\u001b[39m\u001b[38;5;28;01mNone\u001b[39;00m, cnf\u001b[38;5;241m=\u001b[39m{}, \u001b[38;5;241m*\u001b[39m\u001b[38;5;241m*\u001b[39mkw):\n\u001b[0;32m   3197\u001b[0m \u001b[38;5;250m    \u001b[39m\u001b[38;5;124;03m\"\"\"Construct a label widget with the parent MASTER.\u001b[39;00m\n\u001b[0;32m   3198\u001b[0m \n\u001b[0;32m   3199\u001b[0m \u001b[38;5;124;03m    STANDARD OPTIONS\u001b[39;00m\n\u001b[1;32m   (...)\u001b[0m\n\u001b[0;32m   3212\u001b[0m \n\u001b[0;32m   3213\u001b[0m \u001b[38;5;124;03m    \"\"\"\u001b[39;00m\n\u001b[1;32m-> 3214\u001b[0m     Widget\u001b[38;5;241m.\u001b[39m\u001b[38;5;21m__init__\u001b[39m(\u001b[38;5;28mself\u001b[39m, master, \u001b[38;5;124m'\u001b[39m\u001b[38;5;124mlabel\u001b[39m\u001b[38;5;124m'\u001b[39m, cnf, kw)\n",
      "File \u001b[1;32m~\\anaconda3\\Lib\\tkinter\\__init__.py:2628\u001b[0m, in \u001b[0;36mBaseWidget.__init__\u001b[1;34m(self, master, widgetName, cnf, kw, extra)\u001b[0m\n\u001b[0;32m   2626\u001b[0m \u001b[38;5;28;01mfor\u001b[39;00m k, v \u001b[38;5;129;01min\u001b[39;00m classes:\n\u001b[0;32m   2627\u001b[0m     \u001b[38;5;28;01mdel\u001b[39;00m cnf[k]\n\u001b[1;32m-> 2628\u001b[0m \u001b[38;5;28mself\u001b[39m\u001b[38;5;241m.\u001b[39mtk\u001b[38;5;241m.\u001b[39mcall(\n\u001b[0;32m   2629\u001b[0m     (widgetName, \u001b[38;5;28mself\u001b[39m\u001b[38;5;241m.\u001b[39m_w) \u001b[38;5;241m+\u001b[39m extra \u001b[38;5;241m+\u001b[39m \u001b[38;5;28mself\u001b[39m\u001b[38;5;241m.\u001b[39m_options(cnf))\n\u001b[0;32m   2630\u001b[0m \u001b[38;5;28;01mfor\u001b[39;00m k, v \u001b[38;5;129;01min\u001b[39;00m classes:\n\u001b[0;32m   2631\u001b[0m     k\u001b[38;5;241m.\u001b[39mconfigure(\u001b[38;5;28mself\u001b[39m, v)\n",
      "\u001b[1;31mTclError\u001b[0m: can't invoke \"label\" command: application has been destroyed"
     ]
    }
   ],
   "source": [
    "window = tk.Tk()#creating a window\n",
    "window.title(\"Handwritten Digit Recognition System\")#title of window\n",
    "\n",
    "\n",
    "customtkinter.set_appearance_mode(\"Dark\") \n",
    "customtkinter.set_default_color_theme(\"dark-blue\")\n",
    "\n",
    "root = customtkinter.CTk()\n",
    "\n",
    "root.mainloop()\n",
    "\n",
    "l1=tk.Label(window,text=\"Digit\",font=('Palatino Linotype',20))\n",
    "l1.place(x=10,y=0)\n",
    "\n",
    "t1=tk.Entry(window,width=20, border = 5)\n",
    "t1.place(x=150,y=11)\n",
    "\n",
    "b1=tk.Button(window,text=\"1] Open paint and capture the screen\", font=('Palatino Linotype',16),bg=\"#E8F5E9\",fg=\"black\")\n",
    "b1.place(x=10,y=50)\n",
    "\n",
    "window.geometry(\"1920x1080\")#Size of window\n",
    "window.mainloop()#for making window visible"
   ]
  },
  {
   "cell_type": "code",
   "execution_count": 56,
   "id": "f16b2b34",
   "metadata": {},
   "outputs": [
    {
     "name": "stdout",
     "output_type": "stream",
     "text": [
      "Image saved 0\n",
      "Clear screen now and redraw! \n",
      "Image saved 1\n",
      "Clear screen now and redraw! \n",
      "Image saved 2\n",
      "Clear screen now and redraw! \n",
      "Image saved 3\n",
      "Clear screen now and redraw! \n",
      "Image saved 4\n",
      "Clear screen now and redraw! \n"
     ]
    },
    {
     "ename": "KeyboardInterrupt",
     "evalue": "",
     "output_type": "error",
     "traceback": [
      "\u001b[1;31m---------------------------------------------------------------------------\u001b[0m",
      "\u001b[1;31mKeyboardInterrupt\u001b[0m                         Traceback (most recent call last)",
      "Cell \u001b[1;32mIn[56], line 76\u001b[0m\n\u001b[0;32m     70\u001b[0m b4 \u001b[38;5;241m=\u001b[39m ctk\u001b[38;5;241m.\u001b[39mCTkButton(root, text\u001b[38;5;241m=\u001b[39m\u001b[38;5;124m\"\u001b[39m\u001b[38;5;124m4] Live prediction\u001b[39m\u001b[38;5;124m\"\u001b[39m, font\u001b[38;5;241m=\u001b[39m(\u001b[38;5;124m'\u001b[39m\u001b[38;5;124mPalatino Linotype\u001b[39m\u001b[38;5;124m'\u001b[39m, \u001b[38;5;241m16\u001b[39m),\n\u001b[0;32m     71\u001b[0m                    fg_color\u001b[38;5;241m=\u001b[39m\u001b[38;5;124m\"\u001b[39m\u001b[38;5;124m#1E90FF\u001b[39m\u001b[38;5;124m\"\u001b[39m, text_color\u001b[38;5;241m=\u001b[39m\u001b[38;5;124m\"\u001b[39m\u001b[38;5;124mblack\u001b[39m\u001b[38;5;124m\"\u001b[39m, corner_radius\u001b[38;5;241m=\u001b[39m\u001b[38;5;241m10\u001b[39m)\n\u001b[0;32m     72\u001b[0m b4\u001b[38;5;241m.\u001b[39mplace(x\u001b[38;5;241m=\u001b[39m\u001b[38;5;241m10\u001b[39m, y\u001b[38;5;241m=\u001b[39m\u001b[38;5;241m200\u001b[39m)\n\u001b[1;32m---> 76\u001b[0m root\u001b[38;5;241m.\u001b[39mmainloop()\n",
      "File \u001b[1;32m~\\anaconda3\\Lib\\site-packages\\customtkinter\\windows\\ctk_tk.py:165\u001b[0m, in \u001b[0;36mCTk.mainloop\u001b[1;34m(self, *args, **kwargs)\u001b[0m\n\u001b[0;32m    161\u001b[0m             \u001b[38;5;28mself\u001b[39m\u001b[38;5;241m.\u001b[39mdeiconify()\n\u001b[0;32m    163\u001b[0m     \u001b[38;5;28mself\u001b[39m\u001b[38;5;241m.\u001b[39m_window_exists \u001b[38;5;241m=\u001b[39m \u001b[38;5;28;01mTrue\u001b[39;00m\n\u001b[1;32m--> 165\u001b[0m \u001b[38;5;28msuper\u001b[39m()\u001b[38;5;241m.\u001b[39mmainloop(\u001b[38;5;241m*\u001b[39margs, \u001b[38;5;241m*\u001b[39m\u001b[38;5;241m*\u001b[39mkwargs)\n",
      "File \u001b[1;32m~\\anaconda3\\Lib\\tkinter\\__init__.py:1485\u001b[0m, in \u001b[0;36mMisc.mainloop\u001b[1;34m(self, n)\u001b[0m\n\u001b[0;32m   1483\u001b[0m \u001b[38;5;28;01mdef\u001b[39;00m \u001b[38;5;21mmainloop\u001b[39m(\u001b[38;5;28mself\u001b[39m, n\u001b[38;5;241m=\u001b[39m\u001b[38;5;241m0\u001b[39m):\n\u001b[0;32m   1484\u001b[0m \u001b[38;5;250m    \u001b[39m\u001b[38;5;124;03m\"\"\"Call the mainloop of Tk.\"\"\"\u001b[39;00m\n\u001b[1;32m-> 1485\u001b[0m     \u001b[38;5;28mself\u001b[39m\u001b[38;5;241m.\u001b[39mtk\u001b[38;5;241m.\u001b[39mmainloop(n)\n",
      "\u001b[1;31mKeyboardInterrupt\u001b[0m: "
     ]
    }
   ],
   "source": [
    "\n",
    "import customtkinter as ctk\n",
    "from tkinter import messagebox\n",
    "import pyscreenshot as ImageGrab\n",
    "import time\n",
    "import os\n",
    "\n",
    "def center_window(window, width, height):\n",
    "    # Get the screen width and height\n",
    "    screen_width = window.winfo_screenwidth()\n",
    "    screen_height = window.winfo_screenheight()\n",
    "    \n",
    "    # Get the window width and height\n",
    "    window_width = window.winfo_width()\n",
    "    window_height = window.winfo_height()\n",
    "    \n",
    "    # Calculate the position to center the window\n",
    "    x = (screen_width - width) // 2\n",
    "    y = (screen_height - height) // 2\n",
    "    \n",
    "    # Set the window position and size\n",
    "    window.geometry(f\"{width}x{height}+{x}+{y}\")\n",
    "    \n",
    "# Set the appearance mode and theme\n",
    "ctk.set_appearance_mode(\"Dark\")  # Options: \"Dark\", \"Light\"\n",
    "ctk.set_default_color_theme(\"dark-blue\")  # Options: \"blue\", \"green\", \"dark-blue\"\n",
    "\n",
    "\n",
    "root = ctk.CTk()\n",
    "root.title(\"Handwritten Digit Recognition System\")\n",
    "root.geometry(\"1920x1080\")  \n",
    "\n",
    "# Create and place the label\n",
    "l1 = ctk.CTkLabel(root, text=\"Digit\", font=('Palatino Linotype', 20))\n",
    "l1.place(x=10, y=11)\n",
    "\n",
    "# Create and place the entry field\n",
    "t1 = ctk.CTkEntry(root, width=200, height=30, border_width=2)\n",
    "t1.place(x=150, y=11)\n",
    "\n",
    "def screen_capture():\n",
    "    import pyscreenshot as ImageGrab\n",
    "    import time \n",
    "    import os\n",
    "    os.startfile(\"C:/Users/rajpu/AppData/Local/Microsoft/WindowsApps/mspaint.exe\")\n",
    "    s1=t1.get()\n",
    "    os.chdir(\"C:/Users/rajpu/Untitled Folder/captured_images\")\n",
    "    os.mkdir(s1)\n",
    "    os.chdir(\"C:/Users/rajpu/Untitled Folder\")\n",
    "    images_folder=\"captured_images/\"+s1+\"/\" \n",
    "    time.sleep(15)\n",
    "    for i in range(0,5): \n",
    "        time.sleep(6) \n",
    "        im=ImageGrab.grab(bbox=(100,330,703,778))#x1,y1,x2,y2 \n",
    "        print(\"Image saved\",i) \n",
    "        im.save(images_folder+str(i)+'.png') \n",
    "        print(\"Clear screen now and redraw! \")\n",
    "    messagebox.showinfo(\"Result\",\"Capturing screen is completed!!\")\n",
    "b1 = ctk.CTkButton(root, text=\"1] Open paint and capture the screen\", font=('Palatino Linotype', 16),\n",
    "                   fg_color=\"#1E90FF\", text_color=\"black\", corner_radius=10, command=screen_capture)\n",
    "b1.place(x=10, y=50)\n",
    "\n",
    "b2 = ctk.CTkButton(root, text=\"2] Generate dataset\", font=('Palatino Linotype', 16),\n",
    "                   fg_color=\"#1E90FF\", text_color=\"black\", corner_radius=10)\n",
    "b2.place(x=10, y=100)\n",
    "\n",
    "b3 = ctk.CTkButton(root, text=\"3] Train the model, save it and calculate accuracy\", font=('Palatino Linotype', 16),\n",
    "                   fg_color=\"#1E90FF\", text_color=\"black\", corner_radius=10)\n",
    "b3.place(x=10, y=150)\n",
    "\n",
    "b4 = ctk.CTkButton(root, text=\"4] Live prediction\", font=('Palatino Linotype', 16),\n",
    "                   fg_color=\"#1E90FF\", text_color=\"black\", corner_radius=10)\n",
    "b4.place(x=10, y=200)\n",
    "\n",
    "\n",
    "\n",
    "root.mainloop()\n"
   ]
  },
  {
   "cell_type": "code",
   "execution_count": 55,
   "id": "2b790e66",
   "metadata": {},
   "outputs": [
    {
     "name": "stderr",
     "output_type": "stream",
     "text": [
      "ERROR: Could not find a version that satisfies the requirement os (from versions: none)\n",
      "ERROR: No matching distribution found for os\n"
     ]
    }
   ],
   "source": [
    "\n"
   ]
  },
  {
   "cell_type": "code",
   "execution_count": null,
   "id": "bc32b6f1",
   "metadata": {},
   "outputs": [
    {
     "name": "stderr",
     "output_type": "stream",
     "text": [
      "C:\\Users\\rajpu\\anaconda3\\Lib\\site-packages\\sklearn\\base.py:439: UserWarning: X does not have valid feature names, but SVC was fitted with feature names\n",
      "  warnings.warn(\n"
     ]
    },
    {
     "name": "stdout",
     "output_type": "stream",
     "text": [
      "Prediction: 1\n"
     ]
    },
    {
     "name": "stderr",
     "output_type": "stream",
     "text": [
      "C:\\Users\\rajpu\\anaconda3\\Lib\\site-packages\\sklearn\\base.py:439: UserWarning: X does not have valid feature names, but SVC was fitted with feature names\n",
      "  warnings.warn(\n"
     ]
    },
    {
     "name": "stdout",
     "output_type": "stream",
     "text": [
      "Prediction: 6\n"
     ]
    },
    {
     "name": "stderr",
     "output_type": "stream",
     "text": [
      "C:\\Users\\rajpu\\anaconda3\\Lib\\site-packages\\sklearn\\base.py:439: UserWarning: X does not have valid feature names, but SVC was fitted with feature names\n",
      "  warnings.warn(\n"
     ]
    },
    {
     "name": "stdout",
     "output_type": "stream",
     "text": [
      "Prediction: 0\n"
     ]
    },
    {
     "name": "stderr",
     "output_type": "stream",
     "text": [
      "C:\\Users\\rajpu\\anaconda3\\Lib\\site-packages\\sklearn\\base.py:439: UserWarning: X does not have valid feature names, but SVC was fitted with feature names\n",
      "  warnings.warn(\n"
     ]
    },
    {
     "name": "stdout",
     "output_type": "stream",
     "text": [
      "Prediction: 1\n"
     ]
    },
    {
     "name": "stderr",
     "output_type": "stream",
     "text": [
      "C:\\Users\\rajpu\\anaconda3\\Lib\\site-packages\\sklearn\\base.py:439: UserWarning: X does not have valid feature names, but SVC was fitted with feature names\n",
      "  warnings.warn(\n"
     ]
    },
    {
     "name": "stdout",
     "output_type": "stream",
     "text": [
      "Prediction: 3\n"
     ]
    },
    {
     "name": "stderr",
     "output_type": "stream",
     "text": [
      "C:\\Users\\rajpu\\anaconda3\\Lib\\site-packages\\sklearn\\base.py:439: UserWarning: X does not have valid feature names, but SVC was fitted with feature names\n",
      "  warnings.warn(\n"
     ]
    },
    {
     "name": "stdout",
     "output_type": "stream",
     "text": [
      "Prediction: 7\n"
     ]
    },
    {
     "name": "stderr",
     "output_type": "stream",
     "text": [
      "C:\\Users\\rajpu\\anaconda3\\Lib\\site-packages\\sklearn\\base.py:439: UserWarning: X does not have valid feature names, but SVC was fitted with feature names\n",
      "  warnings.warn(\n"
     ]
    },
    {
     "name": "stdout",
     "output_type": "stream",
     "text": [
      "Prediction: 3\n"
     ]
    },
    {
     "name": "stderr",
     "output_type": "stream",
     "text": [
      "C:\\Users\\rajpu\\anaconda3\\Lib\\site-packages\\sklearn\\base.py:439: UserWarning: X does not have valid feature names, but SVC was fitted with feature names\n",
      "  warnings.warn(\n"
     ]
    },
    {
     "name": "stdout",
     "output_type": "stream",
     "text": [
      "Prediction: 3\n"
     ]
    },
    {
     "name": "stderr",
     "output_type": "stream",
     "text": [
      "C:\\Users\\rajpu\\anaconda3\\Lib\\site-packages\\sklearn\\base.py:439: UserWarning: X does not have valid feature names, but SVC was fitted with feature names\n",
      "  warnings.warn(\n"
     ]
    },
    {
     "name": "stdout",
     "output_type": "stream",
     "text": [
      "Prediction: 9\n"
     ]
    },
    {
     "name": "stderr",
     "output_type": "stream",
     "text": [
      "C:\\Users\\rajpu\\anaconda3\\Lib\\site-packages\\sklearn\\base.py:439: UserWarning: X does not have valid feature names, but SVC was fitted with feature names\n",
      "  warnings.warn(\n"
     ]
    },
    {
     "name": "stdout",
     "output_type": "stream",
     "text": [
      "Prediction: 4\n"
     ]
    },
    {
     "name": "stderr",
     "output_type": "stream",
     "text": [
      "C:\\Users\\rajpu\\anaconda3\\Lib\\site-packages\\sklearn\\base.py:439: UserWarning: X does not have valid feature names, but SVC was fitted with feature names\n",
      "  warnings.warn(\n"
     ]
    },
    {
     "name": "stdout",
     "output_type": "stream",
     "text": [
      "Prediction: 9\n"
     ]
    },
    {
     "name": "stderr",
     "output_type": "stream",
     "text": [
      "C:\\Users\\rajpu\\anaconda3\\Lib\\site-packages\\sklearn\\base.py:439: UserWarning: X does not have valid feature names, but SVC was fitted with feature names\n",
      "  warnings.warn(\n"
     ]
    },
    {
     "name": "stdout",
     "output_type": "stream",
     "text": [
      "Prediction: 3\n"
     ]
    },
    {
     "name": "stderr",
     "output_type": "stream",
     "text": [
      "C:\\Users\\rajpu\\anaconda3\\Lib\\site-packages\\sklearn\\base.py:439: UserWarning: X does not have valid feature names, but SVC was fitted with feature names\n",
      "  warnings.warn(\n"
     ]
    },
    {
     "name": "stdout",
     "output_type": "stream",
     "text": [
      "Prediction: 2\n"
     ]
    },
    {
     "name": "stderr",
     "output_type": "stream",
     "text": [
      "C:\\Users\\rajpu\\anaconda3\\Lib\\site-packages\\sklearn\\base.py:439: UserWarning: X does not have valid feature names, but SVC was fitted with feature names\n",
      "  warnings.warn(\n"
     ]
    },
    {
     "name": "stdout",
     "output_type": "stream",
     "text": [
      "Prediction: 2\n"
     ]
    },
    {
     "name": "stderr",
     "output_type": "stream",
     "text": [
      "C:\\Users\\rajpu\\anaconda3\\Lib\\site-packages\\sklearn\\base.py:439: UserWarning: X does not have valid feature names, but SVC was fitted with feature names\n",
      "  warnings.warn(\n"
     ]
    },
    {
     "name": "stdout",
     "output_type": "stream",
     "text": [
      "Prediction: 3\n"
     ]
    },
    {
     "name": "stderr",
     "output_type": "stream",
     "text": [
      "C:\\Users\\rajpu\\anaconda3\\Lib\\site-packages\\sklearn\\base.py:439: UserWarning: X does not have valid feature names, but SVC was fitted with feature names\n",
      "  warnings.warn(\n"
     ]
    },
    {
     "name": "stdout",
     "output_type": "stream",
     "text": [
      "Prediction: 4\n"
     ]
    },
    {
     "name": "stderr",
     "output_type": "stream",
     "text": [
      "C:\\Users\\rajpu\\anaconda3\\Lib\\site-packages\\sklearn\\base.py:439: UserWarning: X does not have valid feature names, but SVC was fitted with feature names\n",
      "  warnings.warn(\n"
     ]
    },
    {
     "name": "stdout",
     "output_type": "stream",
     "text": [
      "Prediction: 3\n"
     ]
    },
    {
     "name": "stderr",
     "output_type": "stream",
     "text": [
      "C:\\Users\\rajpu\\anaconda3\\Lib\\site-packages\\sklearn\\base.py:439: UserWarning: X does not have valid feature names, but SVC was fitted with feature names\n",
      "  warnings.warn(\n"
     ]
    },
    {
     "name": "stdout",
     "output_type": "stream",
     "text": [
      "Prediction: 6\n"
     ]
    },
    {
     "name": "stderr",
     "output_type": "stream",
     "text": [
      "C:\\Users\\rajpu\\anaconda3\\Lib\\site-packages\\sklearn\\base.py:439: UserWarning: X does not have valid feature names, but SVC was fitted with feature names\n",
      "  warnings.warn(\n"
     ]
    },
    {
     "name": "stdout",
     "output_type": "stream",
     "text": [
      "Prediction: 7\n"
     ]
    },
    {
     "name": "stderr",
     "output_type": "stream",
     "text": [
      "C:\\Users\\rajpu\\anaconda3\\Lib\\site-packages\\sklearn\\base.py:439: UserWarning: X does not have valid feature names, but SVC was fitted with feature names\n",
      "  warnings.warn(\n"
     ]
    },
    {
     "name": "stdout",
     "output_type": "stream",
     "text": [
      "Prediction: 7\n"
     ]
    },
    {
     "name": "stderr",
     "output_type": "stream",
     "text": [
      "C:\\Users\\rajpu\\anaconda3\\Lib\\site-packages\\sklearn\\base.py:439: UserWarning: X does not have valid feature names, but SVC was fitted with feature names\n",
      "  warnings.warn(\n"
     ]
    },
    {
     "name": "stdout",
     "output_type": "stream",
     "text": [
      "Prediction: 8\n"
     ]
    },
    {
     "name": "stderr",
     "output_type": "stream",
     "text": [
      "C:\\Users\\rajpu\\anaconda3\\Lib\\site-packages\\sklearn\\base.py:439: UserWarning: X does not have valid feature names, but SVC was fitted with feature names\n",
      "  warnings.warn(\n"
     ]
    },
    {
     "name": "stdout",
     "output_type": "stream",
     "text": [
      "Prediction: 3\n"
     ]
    },
    {
     "name": "stderr",
     "output_type": "stream",
     "text": [
      "C:\\Users\\rajpu\\anaconda3\\Lib\\site-packages\\sklearn\\base.py:439: UserWarning: X does not have valid feature names, but SVC was fitted with feature names\n",
      "  warnings.warn(\n"
     ]
    },
    {
     "name": "stdout",
     "output_type": "stream",
     "text": [
      "Prediction: 4\n"
     ]
    },
    {
     "name": "stderr",
     "output_type": "stream",
     "text": [
      "C:\\Users\\rajpu\\anaconda3\\Lib\\site-packages\\sklearn\\base.py:439: UserWarning: X does not have valid feature names, but SVC was fitted with feature names\n",
      "  warnings.warn(\n"
     ]
    },
    {
     "name": "stdout",
     "output_type": "stream",
     "text": [
      "Prediction: 4\n"
     ]
    },
    {
     "name": "stderr",
     "output_type": "stream",
     "text": [
      "C:\\Users\\rajpu\\anaconda3\\Lib\\site-packages\\sklearn\\base.py:439: UserWarning: X does not have valid feature names, but SVC was fitted with feature names\n",
      "  warnings.warn(\n"
     ]
    },
    {
     "name": "stdout",
     "output_type": "stream",
     "text": [
      "Prediction: 2\n"
     ]
    },
    {
     "name": "stderr",
     "output_type": "stream",
     "text": [
      "C:\\Users\\rajpu\\anaconda3\\Lib\\site-packages\\sklearn\\base.py:439: UserWarning: X does not have valid feature names, but SVC was fitted with feature names\n",
      "  warnings.warn(\n"
     ]
    },
    {
     "name": "stdout",
     "output_type": "stream",
     "text": [
      "Prediction: 1\n"
     ]
    },
    {
     "name": "stderr",
     "output_type": "stream",
     "text": [
      "C:\\Users\\rajpu\\anaconda3\\Lib\\site-packages\\sklearn\\base.py:439: UserWarning: X does not have valid feature names, but SVC was fitted with feature names\n",
      "  warnings.warn(\n"
     ]
    },
    {
     "name": "stdout",
     "output_type": "stream",
     "text": [
      "Prediction: 8\n"
     ]
    },
    {
     "name": "stderr",
     "output_type": "stream",
     "text": [
      "C:\\Users\\rajpu\\anaconda3\\Lib\\site-packages\\sklearn\\base.py:439: UserWarning: X does not have valid feature names, but SVC was fitted with feature names\n",
      "  warnings.warn(\n"
     ]
    },
    {
     "name": "stdout",
     "output_type": "stream",
     "text": [
      "Prediction: 8\n"
     ]
    },
    {
     "name": "stderr",
     "output_type": "stream",
     "text": [
      "Exception in Tkinter callback\n",
      "Traceback (most recent call last):\n",
      "  File \"C:\\Users\\rajpu\\anaconda3\\Lib\\tkinter\\__init__.py\", line 1948, in __call__\n",
      "    return self.func(*args)\n",
      "           ^^^^^^^^^^^^^^^^\n",
      "  File \"C:\\Users\\rajpu\\anaconda3\\Lib\\site-packages\\customtkinter\\windows\\widgets\\ctk_button.py\", line 554, in _clicked\n",
      "    self._command()\n",
      "  File \"C:\\Users\\rajpu\\AppData\\Local\\Temp\\ipykernel_19548\\140074797.py\", line 187, in prediction\n",
      "    cv2.waitKey(10000)\n",
      "KeyboardInterrupt\n"
     ]
    }
   ],
   "source": [
    "import customtkinter as ctk\n",
    "from tkinter import messagebox\n",
    "import pyscreenshot as ImageGrab\n",
    "import time\n",
    "import os\n",
    "\n",
    "def center_window(window, width, height):\n",
    "    # Get the screen width and height\n",
    "    screen_width = window.winfo_screenwidth()\n",
    "    screen_height = window.winfo_screenheight()\n",
    "    \n",
    "    # Get the window width and height\n",
    "    window_width = window.winfo_width()\n",
    "    window_height = window.winfo_height()\n",
    "    \n",
    "    # Calculate the position to center the window\n",
    "    x = (screen_width - width) // 2\n",
    "    y = (screen_height - height) // 2\n",
    "    \n",
    "    # Set the window position and size\n",
    "    window.geometry(f\"{width}x{height}+{x}+{y}\")\n",
    "    \n",
    "# Set the appearance mode and theme\n",
    "ctk.set_appearance_mode(\"Dark\")  # Options: \"Dark\", \"Light\"\n",
    "ctk.set_default_color_theme(\"dark-blue\")  # Options: \"blue\", \"green\", \"dark-blue\"\n",
    "\n",
    "\n",
    "root = ctk.CTk()\n",
    "root.title(\"Handwritten Digit Recognition System\")\n",
    "root.geometry(\"1920x1080\")  \n",
    "\n",
    "# Create and place the label\n",
    "l1 = ctk.CTkLabel(root, text=\"Digit\", font=('Palatino Linotype', 20))\n",
    "l1.place(x=10, y=11)\n",
    "\n",
    "# Create and place the entry field\n",
    "t1 = ctk.CTkEntry(root, width=200, height=30, border_width=2)\n",
    "t1.place(x=150, y=11)\n",
    "\n",
    "def screen_capture():\n",
    "    import pyscreenshot as ImageGrab\n",
    "    import time \n",
    "    import os\n",
    "    os.startfile(\"C:/Users/rajpu/AppData/Local/Microsoft/WindowsApps/mspaint.exe\")\n",
    "    s1=t1.get()\n",
    "    os.chdir(\"C:/Users/rajpu/Untitled Folder/captured_images\")\n",
    "    os.mkdir(s1)\n",
    "    os.chdir(\"C:/Users/rajpu/Untitled Folder\")\n",
    "    images_folder=\"captured_images/\"+s1+\"/\" \n",
    "    time.sleep(15)\n",
    "    for i in range(0,5): \n",
    "        time.sleep(6) \n",
    "        im=ImageGrab.grab(bbox=(100,330,703,778))#x1,y1,x2,y2 \n",
    "        print(\"Image saved\",i) \n",
    "        im.save(images_folder+str(i)+'.png') \n",
    "        print(\"Clear screen now and redraw! \")\n",
    "    messagebox.showinfo(\"Result\",\"Capturing screen is completed!!\")\n",
    "b1 = ctk.CTkButton(root, text=\"1] Open paint and capture the screen\", font=('Palatino Linotype', 16),\n",
    "                   fg_color=\"#1E90FF\", text_color=\"black\", corner_radius=10, command=screen_capture)\n",
    "b1.place(x=10, y=50)\n",
    "\n",
    "def generate_dataset():\n",
    "    import cv2\n",
    "    import csv\n",
    "    import glob\n",
    "\n",
    "    header =[\"label\"]\n",
    "    for i in range(0,784):\n",
    "        header.append(\"pixel\"+str(i))\n",
    "    with open('dataset.csv','a') as f:\n",
    "        writer = csv.writer(f)\n",
    "        writer.writerow(header)\n",
    "\n",
    "    for label in range(10):\n",
    "        dirList = glob.glob(\"captured_images/\"+str(label)+\"/*.png\") #glob is used to extract path of the folder\n",
    "\n",
    "        for img_path in dirList:\n",
    "            im= cv2.imread(img_path)# to read the images\n",
    "            im_gray = cv2.cvtColor(im,cv2.COLOR_BGR2GRAY)#convert image into gray scale\n",
    "            im_gray = cv2.GaussianBlur(im_gray,(15,15), 0)#bluring the image to get smooth transition; (15,15)is kernel size, 0 indicates it automatically calculates sigma_x and sigma_y value which is required\n",
    "            roi = cv2.resize(im_gray,(28,28), interpolation=cv2.INTER_AREA)#resizing and storing it in roi(region of interest)\n",
    "\n",
    "            data=[]\n",
    "            data.append(label)\n",
    "            rows, cols = roi.shape\n",
    "\n",
    "            ## Adding pixel one by one into data array\n",
    "            for i in range(rows):\n",
    "                for j in range(cols):\n",
    "                    k = roi[i,j]# k is pixel value of particular region\n",
    "                    if k>100:\n",
    "                        k=1\n",
    "                    else:\n",
    "                        k=0\n",
    "                    data.append(k)\n",
    "            with open('dataset.csv','a') as f:\n",
    "                writer = csv.writer(f)\n",
    "                writer.writerow(data)   \n",
    "    messagebox.showinfo(\"Result\",\"Geanerating dataset is completed!!\")\n",
    "    \n",
    "\n",
    "b2 = ctk.CTkButton(root, text=\"2] Generate dataset\", font=('Palatino Linotype', 16),\n",
    "                   fg_color=\"#1E90FF\", text_color=\"black\", corner_radius=10,command=generate_dataset)\n",
    "b2.place(x=10, y=100)\n",
    "\n",
    "def train_save_accuracy():\n",
    "    import pandas as pd\n",
    "    from sklearn.utils import shuffle\n",
    "    data  =pd.read_csv('dataset.csv')\n",
    "    data=shuffle(data)\n",
    "    data\n",
    "    #separation of dependent and independent variable\n",
    "\n",
    "    X= data.drop([\"label\"],axis=1)\n",
    "    Y = data[\"label\"]\n",
    "    \n",
    "    # Train-test split\n",
    "\n",
    "    from sklearn.model_selection import train_test_split\n",
    "    train_x, test_x, train_y, test_y = train_test_split(X,Y, test_size = 0.2)#0.2 means 20% of images are used for testing purpose and remaining 80% are used for testing purpose\n",
    "    \n",
    "    # Fitting and testing of our model using SVC and joblib respectively\n",
    "\n",
    "    import joblib\n",
    "    from sklearn.svm import SVC\n",
    "    classifier = SVC(kernel=\"linear\", random_state = 6)\n",
    "    classifier.fit(train_x, train_y)\n",
    "    joblib.dump(classifier,\"model/digit_recognizer\")\n",
    "    \n",
    "    # calculate accuracy\n",
    "\n",
    "    from sklearn import metrics\n",
    "    prediction = classifier.predict(test_x)\n",
    "    acc=metrics.accuracy_score(prediction, test_y)\n",
    "    messagebox.showinfo(\"Result\",f\"Accuracy of the system is {acc}\")\n",
    "b3 = ctk.CTkButton(root, text=\"3] Train the model, save it and calculate accuracy\", font=('Palatino Linotype', 16),\n",
    "                   fg_color=\"#1E90FF\", text_color=\"black\", corner_radius=10,command=train_save_accuracy)\n",
    "b3.place(x=10, y=150)\n",
    "\n",
    "def prediction():\n",
    "    # prediction of image drawn in paint\n",
    "\n",
    "    import joblib\n",
    "    import cv2\n",
    "    import numpy as np \n",
    "    import time\n",
    "    import pyscreenshot as ImageGrab\n",
    "    import os\n",
    "    os.startfile(\"C:/Users/rajpu/AppData/Local/Microsoft/WindowsApps/mspaint.exe\")\n",
    "   \n",
    "    model=joblib.load(\"model/digit_recognizer\")\n",
    "    images_folder = \"img/\" #when we will draw a new image it will save that iamge in img folder\n",
    "    time.sleep(15)\n",
    "    while True:\n",
    "        img = ImageGrab.grab(bbox=(100,330,703,778))\n",
    "\n",
    "        img.save(images_folder+\"img.png\")\n",
    "        im = cv2.imread(images_folder+\"img.png\")\n",
    "        im_gray = cv2.cvtColor(im,cv2.COLOR_BGR2GRAY)\n",
    "        im_gray = cv2.GaussianBlur(im_gray,(15,15),0)\n",
    "\n",
    "        #Threshold the image(helps to focus on particular region of image)\n",
    "        ret, im_th = cv2.threshold(im_gray,100,255, cv2.THRESH_BINARY)\n",
    "        roi = cv2.resize(im_th,(28,28), interpolation =cv2.INTER_AREA)\n",
    "\n",
    "        rows,cols = roi.shape\n",
    "\n",
    "        X = []\n",
    "\n",
    "        # Add pixel one by one into data arra\n",
    "        for i in range(rows):\n",
    "            for j in range(cols):\n",
    "                k = roi[i,j]# k is pixel value of particular region\n",
    "                if k>100:\n",
    "                    k=1\n",
    "                else:\n",
    "                    k=0\n",
    "                X.append(k)\n",
    "\n",
    "        predictions = model.predict([X])\n",
    "        print(\"Prediction:\",predictions[0])\n",
    "        cv2.putText(im, \"Prediction is: \"+str(predictions[0]), (20,20), 0 ,0.8,(255,255,255),2,cv2.LINE_AA)#particular region to write text, value of font face,font Scale, color, thickness, line type\n",
    "\n",
    "        cv2.startWindowThread()\n",
    "        cv2.namedWindow(\"Result\")\n",
    "        cv2.imshow(\"Result\",im)\n",
    "        cv2.waitKey(10000)\n",
    "        if cv2.waitKey(1) == 13: #27 is the ascii value of esc,13 which is ascii value of enter; when we will click enter execution will stop\n",
    "            break\n",
    "    cv2.destroyAllWindows()\n",
    "        \n",
    "b4 = ctk.CTkButton(root, text=\"4] Live prediction\", font=('Palatino Linotype', 16),\n",
    "                   fg_color=\"#1E90FF\", text_color=\"black\", corner_radius=10,command=prediction)\n",
    "b4.place(x=10, y=200)\n",
    "\n",
    "\n",
    "root.mainloop()"
   ]
  },
  {
   "cell_type": "code",
   "execution_count": null,
   "id": "61ea8894",
   "metadata": {},
   "outputs": [],
   "source": []
  },
  {
   "cell_type": "code",
   "execution_count": null,
   "id": "59fe146b",
   "metadata": {},
   "outputs": [],
   "source": []
  },
  {
   "cell_type": "code",
   "execution_count": null,
   "id": "19c6144d",
   "metadata": {},
   "outputs": [],
   "source": []
  }
 ],
 "metadata": {
  "kernelspec": {
   "display_name": "Python 3 (ipykernel)",
   "language": "python",
   "name": "python3"
  },
  "language_info": {
   "codemirror_mode": {
    "name": "ipython",
    "version": 3
   },
   "file_extension": ".py",
   "mimetype": "text/x-python",
   "name": "python",
   "nbconvert_exporter": "python",
   "pygments_lexer": "ipython3",
   "version": "3.11.3"
  }
 },
 "nbformat": 4,
 "nbformat_minor": 5
}
